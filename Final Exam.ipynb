{
 "cells": [
  {
   "cell_type": "markdown",
   "id": "1158f436-7216-4088-b449-93d1c5044fea",
   "metadata": {},
   "source": [
    "# My Jupyter Notebook on IBM Watson Studio"
   ]
  },
  {
   "cell_type": "markdown",
   "id": "d951bd2b-e4b6-4761-ae7d-9fd009454f11",
   "metadata": {},
   "source": [
    "**Volodymyr Tereshchenko**\n",
    "\n",
    "Data Scientist"
   ]
  },
  {
   "cell_type": "markdown",
   "id": "2f4929b2-b75f-494c-8b87-1f3098b5dd80",
   "metadata": {},
   "source": [
    "*I am interested in data science because I believe that this area will allow me to expand the possibilities of using data in my job. \n",
    "Another reason is that I like calculus and I have enough experience in it.* "
   ]
  },
  {
   "cell_type": "markdown",
   "id": "ba9ed1f0-a4a6-450c-a0fe-421a30934fe1",
   "metadata": {},
   "source": [
    "### The program sets the values of two variables and the result of their division is displayed"
   ]
  },
  {
   "cell_type": "code",
   "execution_count": 1,
   "id": "2fec6524-fc06-4b1b-9442-9ea5c79346e4",
   "metadata": {},
   "outputs": [
    {
     "name": "stdout",
     "output_type": "stream",
     "text": [
      "3.02\n"
     ]
    }
   ],
   "source": [
    "m = 15.1\n",
    "n = 5\n",
    "print(m / n)"
   ]
  },
  {
   "cell_type": "markdown",
   "id": "9dac9267-9a2a-42ab-b7c0-42decaba3260",
   "metadata": {},
   "source": [
    ">*This is:*\n",
    " * the \n",
    " * last\n",
    " * task\n",
    "___\n"
   ]
  },
  {
   "cell_type": "code",
   "execution_count": null,
   "id": "01f6b0b0-98cd-4719-9e26-87a111be68c2",
   "metadata": {},
   "outputs": [],
   "source": []
  }
 ],
 "metadata": {
  "kernelspec": {
   "display_name": "Python 3 (ipykernel)",
   "language": "python",
   "name": "python3"
  },
  "language_info": {
   "codemirror_mode": {
    "name": "ipython",
    "version": 3
   },
   "file_extension": ".py",
   "mimetype": "text/x-python",
   "name": "python",
   "nbconvert_exporter": "python",
   "pygments_lexer": "ipython3",
   "version": "3.9.13"
  }
 },
 "nbformat": 4,
 "nbformat_minor": 5
}
